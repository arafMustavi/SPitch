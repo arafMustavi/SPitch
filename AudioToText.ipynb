{
  "nbformat": 4,
  "nbformat_minor": 0,
  "metadata": {
    "colab": {
      "name": "SPitch.ipynb",
      "provenance": [],
      "authorship_tag": "ABX9TyPxeJid6PW110pg8q+m1u5R",
      "include_colab_link": true
    },
    "kernelspec": {
      "name": "python3",
      "display_name": "Python 3"
    }
  },
  "cells": [
    {
      "cell_type": "markdown",
      "metadata": {
        "id": "view-in-github",
        "colab_type": "text"
      },
      "source": [
        "<a href=\"https://colab.research.google.com/github/arafMustavi/SPitch/blob/main/AudioToText.ipynb\" target=\"_parent\"><img src=\"https://colab.research.google.com/assets/colab-badge.svg\" alt=\"Open In Colab\"/></a>"
      ]
    },
    {
      "cell_type": "markdown",
      "metadata": {
        "id": "94eb38dqIPx8"
      },
      "source": [
        "# Transcribe\n",
        "\n",
        "[ Following the tutorial : https://realpython.com/python-speech-recognition/ ]\n",
        "\n",
        "Dataset for Speech Recognition : \n",
        "\n",
        "[http://www.voiptroubleshooter.com/open_speech/index.html]"
      ]
    },
    {
      "cell_type": "markdown",
      "metadata": {
        "id": "oENMi49QEwGi"
      },
      "source": [
        "Speech Recognition | Library Installation"
      ]
    },
    {
      "cell_type": "code",
      "metadata": {
        "colab": {
          "base_uri": "https://localhost:8080/"
        },
        "id": "2xYlq_5xEeIv",
        "outputId": "77a6e389-b598-4023-d13f-695735d6eeab"
      },
      "source": [
        "!pip install SpeechRecognition"
      ],
      "execution_count": 1,
      "outputs": [
        {
          "output_type": "stream",
          "text": [
            "Collecting SpeechRecognition\n",
            "\u001b[?25l  Downloading https://files.pythonhosted.org/packages/26/e1/7f5678cd94ec1234269d23756dbdaa4c8cfaed973412f88ae8adf7893a50/SpeechRecognition-3.8.1-py2.py3-none-any.whl (32.8MB)\n",
            "\u001b[K     |████████████████████████████████| 32.8MB 111kB/s \n",
            "\u001b[?25hInstalling collected packages: SpeechRecognition\n",
            "Successfully installed SpeechRecognition-3.8.1\n"
          ],
          "name": "stdout"
        }
      ]
    },
    {
      "cell_type": "markdown",
      "metadata": {
        "id": "RHPZQ31PFBLw"
      },
      "source": [
        "Import and Version Check"
      ]
    },
    {
      "cell_type": "code",
      "metadata": {
        "colab": {
          "base_uri": "https://localhost:8080/",
          "height": 35
        },
        "id": "uR4l3smXElsA",
        "outputId": "05d1a69a-cc74-446b-b5ca-7349bd9c98bf"
      },
      "source": [
        "import speech_recognition as sr\n",
        "sr.__version__"
      ],
      "execution_count": 2,
      "outputs": [
        {
          "output_type": "execute_result",
          "data": {
            "application/vnd.google.colaboratory.intrinsic+json": {
              "type": "string"
            },
            "text/plain": [
              "'3.8.1'"
            ]
          },
          "metadata": {
            "tags": []
          },
          "execution_count": 2
        }
      ]
    },
    {
      "cell_type": "markdown",
      "metadata": {
        "id": "AeB-o4r_FEsX"
      },
      "source": [
        "## Recognizer Instance\n",
        "\n",
        "Each Recognizer instance has seven methods for recognizing speech from an audio source using various APIs. These are:\n",
        "\n",
        "- recognize_bing(): Microsoft Bing Speech\n",
        "\n",
        "- recognize_google(): Google Web Speech API\n",
        "\n",
        "- recognize_google_cloud(): Google Cloud Speech - requires installation of the\n",
        "google-cloud-speech package\n",
        "\n",
        "- recognize_houndify(): Houndify by SoundHound\n",
        "\n",
        "- recognize_ibm(): IBM Speech to Text\n",
        "\n",
        "- recognize_sphinx(): CMU Sphinx - requires installing PocketSphinx\n",
        "\n",
        "- recognize_wit(): Wit.ai\n",
        "\n",
        "of the seven, only recognize_sphinx() works offline with the CMU Sphinx engine. The other six all require an internet connection."
      ]
    },
    {
      "cell_type": "code",
      "metadata": {
        "id": "MFqTB3DwEtmK"
      },
      "source": [
        "recog = sr.Recognizer()"
      ],
      "execution_count": 3,
      "outputs": []
    },
    {
      "cell_type": "markdown",
      "metadata": {
        "id": "F22pDq5vFyLe"
      },
      "source": [
        "Supported File Types\n",
        "\n",
        "Currently, SpeechRecognition supports the following file formats:\n",
        "\n",
        "- WAV: must be in PCM/LPCM format\n",
        "\n",
        "- AIFF\n",
        "\n",
        "- AIFF-C\n",
        "\n",
        "- FLAC: must be native FLAC format; OGG-FLAC is not supported"
      ]
    },
    {
      "cell_type": "code",
      "metadata": {
        "colab": {
          "base_uri": "https://localhost:8080/",
          "height": 163
        },
        "id": "s2m1fSUNFpQv",
        "outputId": "4ec56fff-9e32-468f-842c-3fee9f249352"
      },
      "source": [
        "#  WILL Throw and Error\n",
        "\n",
        "recog.recognize_google()\n",
        "\n",
        "# How could something be recognized from nothing?"
      ],
      "execution_count": 4,
      "outputs": [
        {
          "output_type": "error",
          "ename": "TypeError",
          "evalue": "ignored",
          "traceback": [
            "\u001b[0;31m---------------------------------------------------------------------------\u001b[0m",
            "\u001b[0;31mTypeError\u001b[0m                                 Traceback (most recent call last)",
            "\u001b[0;32m<ipython-input-4-1ed056d75f58>\u001b[0m in \u001b[0;36m<module>\u001b[0;34m()\u001b[0m\n\u001b[0;32m----> 1\u001b[0;31m \u001b[0mrecog\u001b[0m\u001b[0;34m.\u001b[0m\u001b[0mrecognize_google\u001b[0m\u001b[0;34m(\u001b[0m\u001b[0;34m)\u001b[0m\u001b[0;34m\u001b[0m\u001b[0;34m\u001b[0m\u001b[0m\n\u001b[0m",
            "\u001b[0;31mTypeError\u001b[0m: recognize_google() missing 1 required positional argument: 'audio_data'"
          ]
        }
      ]
    },
    {
      "cell_type": "markdown",
      "metadata": {
        "id": "yrjRHTJzGIe_"
      },
      "source": [
        "# Using record() to Capture Data From a File\n",
        "\n",
        "Type the following into your interpreter session to process the contents of the “harvard.wav” file:"
      ]
    },
    {
      "cell_type": "code",
      "metadata": {
        "id": "7_D1zvilFuAC"
      },
      "source": [
        "inputAudio = sr.AudioFile('OSR_us_000_0010_8k.wav')\n",
        "with inputAudio as source:\n",
        "    audio = recog.record(source)"
      ],
      "execution_count": 8,
      "outputs": []
    },
    {
      "cell_type": "code",
      "metadata": {
        "colab": {
          "base_uri": "https://localhost:8080/"
        },
        "id": "ixTl7HycH104",
        "outputId": "6a37e847-8e60-4f02-bed8-e3519023b379"
      },
      "source": [
        "type(audio)"
      ],
      "execution_count": 9,
      "outputs": [
        {
          "output_type": "execute_result",
          "data": {
            "text/plain": [
              "speech_recognition.AudioData"
            ]
          },
          "metadata": {
            "tags": []
          },
          "execution_count": 9
        }
      ]
    },
    {
      "cell_type": "code",
      "metadata": {
        "colab": {
          "base_uri": "https://localhost:8080/",
          "height": 69
        },
        "id": "BsfmRwvgH4bR",
        "outputId": "da81dcbd-c36c-44f1-e66e-5cdfce3fc45c"
      },
      "source": [
        "recog.recognize_google(audio)"
      ],
      "execution_count": 10,
      "outputs": [
        {
          "output_type": "execute_result",
          "data": {
            "application/vnd.google.colaboratory.intrinsic+json": {
              "type": "string"
            },
            "text/plain": [
              "\"Burke's canoe slid on the smooth planks glue the sea to a dark blue background it is easy to tell the depth of a well these day the chicken leg of a variegated rice is often served in Randall's the juice of lemons makes fine punch the boxes on the side the pump truck the ha grimstead top corn and garbage 4 hours of City Works in a large cell\""
            ]
          },
          "metadata": {
            "tags": []
          },
          "execution_count": 10
        }
      ]
    },
    {
      "cell_type": "markdown",
      "metadata": {
        "id": "jIgL5we7IKlv"
      },
      "source": [
        "# **Congratulations! You’ve just transcribed your first audio file!**\n"
      ]
    },
    {
      "cell_type": "markdown",
      "metadata": {
        "id": "m8o2zK9SJlq0"
      },
      "source": [
        "Capturing Segments With offset and duration\n",
        "\n",
        "What if you only want to capture a portion of the speech in a file? The record() method accepts a duration keyword argument that stops the recording after a specified number of seconds.\n",
        "\n",
        "For example, the following captures any speech in the first four seconds of the file:"
      ]
    },
    {
      "cell_type": "code",
      "metadata": {
        "colab": {
          "base_uri": "https://localhost:8080/",
          "height": 35
        },
        "id": "5fR3TYnoJkjg",
        "outputId": "29325c7d-dc93-4c1e-8a14-fa35beba1da3"
      },
      "source": [
        "with inputAudio as source:\n",
        "    audio = recog.record(source, duration=8)\n",
        "recog.recognize_google(audio)"
      ],
      "execution_count": 12,
      "outputs": [
        {
          "output_type": "execute_result",
          "data": {
            "application/vnd.google.colaboratory.intrinsic+json": {
              "type": "string"
            },
            "text/plain": [
              "'Birch canoe slid on the smooth planks glue the sea to a dark blue background'"
            ]
          },
          "metadata": {
            "tags": []
          },
          "execution_count": 12
        }
      ]
    },
    {
      "cell_type": "markdown",
      "metadata": {
        "id": "rHYItSFuKBOk"
      },
      "source": [
        "The record() method, when used inside a with block, always moves ahead in the file stream. This means that if you record once for four seconds and then record again for four seconds, the second time returns the four seconds of audio after the first four seconds."
      ]
    },
    {
      "cell_type": "code",
      "metadata": {
        "colab": {
          "base_uri": "https://localhost:8080/"
        },
        "id": "xHl6znwsJ0rC",
        "outputId": "a71896d3-311b-41cf-8897-a9c206af9aaa"
      },
      "source": [
        "with inputAudio as source:\n",
        "    audio1 = recog.record(source, duration=8)\n",
        "    audio2 = recog.record(source, duration=8)\n",
        "\n",
        "print(recog.recognize_google(audio1))\n",
        "print(recog.recognize_google(audio2))"
      ],
      "execution_count": 13,
      "outputs": [
        {
          "output_type": "stream",
          "text": [
            "Burke's canoe slid on the smooth planks glue the sea to a dark blue background\n",
            "need to tell the depth of a well with a very good price is often served in round\n"
          ],
          "name": "stdout"
        }
      ]
    },
    {
      "cell_type": "markdown",
      "metadata": {
        "id": "bevgGoeZKfbX"
      },
      "source": [
        "Notice that audio2 contains a portion of the third phrase in the file. When specifying a duration, the recording might stop mid-phrase—or even mid-word—which can hurt the accuracy of the transcription. More on this in a bit.\n",
        "\n",
        "In addition to specifying a recording duration, the record() method can be given a specific starting point using the offset keyword argument. This value represents the number of seconds from the beginning of the file to ignore before starting to record.\n",
        "\n",
        "To capture only the second phrase in the file, you could start with an offset of four seconds and record for, say, three seconds."
      ]
    },
    {
      "cell_type": "code",
      "metadata": {
        "colab": {
          "base_uri": "https://localhost:8080/"
        },
        "id": "6bkGdSBlKRoT",
        "outputId": "d5d74fc7-b51a-4ef1-9a6e-e54f3349bc3c"
      },
      "source": [
        "with inputAudio as source:\n",
        "    audio = recog.record(source,offset=4, duration=3)\n",
        "print(recog.recognize_google(audio))"
      ],
      "execution_count": 14,
      "outputs": [
        {
          "output_type": "stream",
          "text": [
            "gluta C to a dog food bag\n"
          ],
          "name": "stdout"
        }
      ]
    },
    {
      "cell_type": "code",
      "metadata": {
        "id": "b8KRuemrKsuJ"
      },
      "source": [
        ""
      ],
      "execution_count": null,
      "outputs": []
    }
  ]
}